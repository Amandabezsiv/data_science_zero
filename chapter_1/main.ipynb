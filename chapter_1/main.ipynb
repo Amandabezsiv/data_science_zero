{
 "cells": [
  {
   "cell_type": "markdown",
   "metadata": {},
   "source": [
    "# Chapter 1\n",
    "\n",
    "In this notebook we will do some exercises from dszero introduction chapter."
   ]
  },
  {
   "cell_type": "code",
   "execution_count": 1,
   "metadata": {},
   "outputs": [],
   "source": [
    "users = [\n",
    "    {\"id\": 0, \"name\": \"Hero\"},\n",
    "    {\"id\": 1, \"name\": \"Dunn\"},\n",
    "    {\"id\": 2, \"name\": \"Sue\"},\n",
    "    {\"id\": 3, \"name\": \"Chi\"},\n",
    "    {\"id\": 4, \"name\": \"Thor\"},\n",
    "    {\"id\": 5, \"name\": \"Clive\"},\n",
    "    {\"id\": 6, \"name\": \"Hicks\"},\n",
    "    {\"id\": 7, \"name\": \"Devin\"},\n",
    "    {\"id\": 8, \"name\": \"Kate\"},\n",
    "    {\"id\": 9, \"name\": \"Klein\"},\n",
    "]\n",
    "friendships = [\n",
    "    (0, 1),\n",
    "    (0, 2),\n",
    "    (1, 2),\n",
    "    (1, 3),\n",
    "    (2, 3),\n",
    "    (3, 4),\n",
    "    (4, 5),\n",
    "    (5, 6),\n",
    "    (5, 7),\n",
    "    (6, 8),\n",
    "    (7, 8),\n",
    "    (8, 9),\n",
    "]"
   ]
  },
  {
   "cell_type": "code",
   "execution_count": 2,
   "metadata": {},
   "outputs": [],
   "source": [
    "for user in users:\n",
    "    user[\"friends\"] = []"
   ]
  },
  {
   "cell_type": "code",
   "execution_count": 3,
   "metadata": {},
   "outputs": [],
   "source": [
    "for id_i, id_j in friendships:\n",
    "    for user in users:\n",
    "        if user[\"id\"] == id_i:\n",
    "            user[\"friends\"].append(id_j)\n",
    "            break\n",
    "\n",
    "    for user in users:\n",
    "        if user[\"id\"] == id_j:\n",
    "            user[\"friends\"].append(id_i)\n",
    "            break"
   ]
  },
  {
   "cell_type": "code",
   "execution_count": null,
   "metadata": {},
   "outputs": [],
   "source": [
    "def friends_of_friends(user_id: int) -> list:\n",
    "    fof = []\n",
    "    result = set()\n",
    "\n",
    "    for user in users:\n",
    "        if user[\"id\"] == user_id:\n",
    "            usuario = user\n",
    "            break\n",
    "\n",
    "    for friend_id in usuario[\"friends\"]:\n",
    "        for user in users:\n",
    "            if user[\"id\"] == friend_id:\n",
    "                fof.append(user)\n",
    "\n",
    "    for user in fof:\n",
    "        for friend in user[\"friends\"]:\n",
    "            if friend not in usuario[\"friends\"]:\n",
    "                result.add(friend)\n",
    "    result.discard(user_id)\n",
    "    return list(result)\n",
    "\n",
    "\n",
    "friends_of_friends(user_id=3)"
   ]
  }
 ],
 "metadata": {
  "kernelspec": {
   "display_name": "venv_dszero",
   "language": "python",
   "name": "python3"
  },
  "language_info": {
   "codemirror_mode": {
    "name": "ipython",
    "version": 3
   },
   "file_extension": ".py",
   "mimetype": "text/x-python",
   "name": "python",
   "nbconvert_exporter": "python",
   "pygments_lexer": "ipython3",
   "version": "3.12.0"
  }
 },
 "nbformat": 4,
 "nbformat_minor": 2
}
